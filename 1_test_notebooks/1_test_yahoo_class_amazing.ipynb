{
 "cells": [
  {
   "cell_type": "code",
   "execution_count": 1,
   "id": "cd01542a",
   "metadata": {},
   "outputs": [],
   "source": [
    "import sys\n",
    "\n",
    "sys.path.append('../mylib')\n",
    "\n",
    "from yahoo import Yahoo"
   ]
  },
  {
   "cell_type": "code",
   "execution_count": 2,
   "id": "a4ac82a1",
   "metadata": {},
   "outputs": [
    {
     "name": "stdout",
     "output_type": "stream",
     "text": [
      "Yahoo Initialized CVS\n"
     ]
    }
   ],
   "source": [
    "my_yahoo = Yahoo('CVS')"
   ]
  },
  {
   "cell_type": "code",
   "execution_count": null,
   "id": "532a93c0",
   "metadata": {},
   "outputs": [],
   "source": []
  }
 ],
 "metadata": {
  "kernelspec": {
   "display_name": "Python 3 (ipykernel)",
   "language": "python",
   "name": "python3"
  },
  "language_info": {
   "codemirror_mode": {
    "name": "ipython",
    "version": 3
   },
   "file_extension": ".py",
   "mimetype": "text/x-python",
   "name": "python",
   "nbconvert_exporter": "python",
   "pygments_lexer": "ipython3",
   "version": "3.9.9"
  }
 },
 "nbformat": 4,
 "nbformat_minor": 5
}
